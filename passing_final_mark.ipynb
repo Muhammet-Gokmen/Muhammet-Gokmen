{
  "nbformat": 4,
  "nbformat_minor": 0,
  "metadata": {
    "colab": {
      "name": "passing_final_mark.ipynb",
      "provenance": [],
      "authorship_tag": "ABX9TyOUVxWPgK0XzsskRewAQ1tf",
      "include_colab_link": true
    },
    "kernelspec": {
      "name": "python3",
      "display_name": "Python 3"
    },
    "language_info": {
      "name": "python"
    }
  },
  "cells": [
    {
      "cell_type": "markdown",
      "metadata": {
        "id": "view-in-github",
        "colab_type": "text"
      },
      "source": [
        "<a href=\"https://colab.research.google.com/github/Muhammet-Gokmen/Muhammet-Gokmen/blob/main/passing_final_mark.ipynb\" target=\"_parent\"><img src=\"https://colab.research.google.com/assets/colab-badge.svg\" alt=\"Open In Colab\"/></a>"
      ]
    },
    {
      "cell_type": "code",
      "source": [
        "#txt dosyasi acma."
      ],
      "metadata": {
        "id": "2q2HN5-fA7jz"
      },
      "execution_count": 22,
      "outputs": []
    },
    {
      "cell_type": "code",
      "source": [
        "# ogrencilerin notlarini hesap etme\n",
        "##txt dosyasindan gecen ogrencileri bulma ve yeni txt dosyasina atma\n",
        "###txt dosyasindan kalan ogrencileri bulma ve yeni txt dosyasina atma"
      ],
      "metadata": {
        "id": "Xc-ceY7KA7mq"
      },
      "execution_count": 22,
      "outputs": []
    },
    {
      "cell_type": "code",
      "source": [
        "with open(\"dosya.txt\",\"r\", encoding=\"utf-8\") as notlar:\n",
        "  file = notlar.read()\n",
        "with open(\"dosya.txt\",\"r\", encoding=\"utf-8\") as notlar:  \n",
        "  file1 = notlar.readline()\n",
        "with open(\"dosya.txt\",\"r\", encoding=\"utf-8\") as notlar:  \n",
        "  file3 = notlar.readlines()\n",
        "print(file3)  "
      ],
      "metadata": {
        "colab": {
          "base_uri": "https://localhost:8080/"
        },
        "id": "pNokFjJ1A7p8",
        "outputId": "c5b5a5c8-a699-42b1-99d0-ee20fde92049"
      },
      "execution_count": 8,
      "outputs": [
        {
          "output_type": "stream",
          "name": "stdout",
          "text": [
            "['Hatice Günday,70,90,20\\n', 'Mustafa Akyürek,90,80,60\\n', 'Ramazan Topaloğlu,60,30,50\\n', 'Elif Akşit,80,40,80\\n', 'Mehmet Düşenkalkar,70,20,40\\n', 'Hatice Dağdaş,90,90,80\\n', 'Merve Tütüncü,40,30,30\\n', 'Hatice Pekkan,50,70,60\\n', 'Merve Alyanak,70,60,30\\n', 'Meryem Aşıkoğlu,20,80,70\\n', 'Süleyman Uluhan,40,10,100\\n', 'Esra Ekici,10,10,30\\n', 'Emine Kumcuoğlu,90,30,80\\n', 'Süleyman Kumcuoğlu,50,10,60\\n', 'Şerife Kumcuoğlu,40,70,70\\n', 'Sude Tekand,90,50,90\\n', 'Elif Nebioğlu,10,10,60\\n', 'Sude Berberoğlu,10,100,50\\n', 'Yasemin Durmaz,40,70,10\\n', 'Fadime Akyürek,50,20,100\\n', 'Fatma Akşit,60,40,90\\n', 'Emre Sözeri,50,50,20\\n', 'Yasemin Kurutluoğlu,40,50,40\\n', 'Fatma Akman,80,20,30\\n', 'Hacer Korol,80,50,90\\n', 'Recep Altınbaş,40,70,80\\n', 'Murat Numanoğlu,70,100,100\\n', 'Fatih Fahri,40,10,10\\n', 'Halil Sarıoğlu,30,70,60\\n', 'Merve Arıcan,30,30,70\\n', 'İsmail Kaplangı,60,50,10\\n', 'Emir Egeli,80,20,80\\n', 'Havva Erbulak,30,10,80\\n', 'Hacer Okumuş,70,100,70\\n', 'Salih Ağaoğlu,10,10,40\\n', 'Zeliha Ağaoğlu,100,80,30\\n', 'Abdullah Solmaz,60,40,50\\n', 'Fatih Elmastaşoğlu,20,20,60\\n', 'Hacer Karaer,90,90,60\\n', 'Sude Kumcuoğlu,60,20,30\\n', 'Abdullah Kuzucu,100,40,40\\n', 'Hanife Söyler,100,20,80\\n', 'Sude Orbay,60,30,40\\n', 'Sultan Uluç,90,90,30\\n', 'Hanife Beşok,80,100,50\\n', 'Hülya Karadaş,80,100,10\\n', 'Fatma Tuğluk,60,20,50\\n', 'Halil Güçlü,100,80,30\\n', 'Recep Eronat,60,100,20\\n', 'Büşra Koyuncu,60,70,70\\n', 'Hüseyin Kunt,50,80,10\\n', 'Halil Numanoğlu,70,60,40\\n', 'Hülya Gürmen,80,100,30\\n', 'Ömer Kulaksızoğlu,40,40,60\\n', 'Zeliha Demirel,70,40,100\\n', 'Mustafa Aşıkoğlu,60,70,90\\n', 'Süleyman Orbay,90,80,60\\n', 'İbrahim Erez,50,60,40\\n', 'Süleyman Koçyiğit,100,10,60\\n', 'Salih Orbay,60,10,30\\n', 'Şerife Süleymanoğlu,80,30,100\\n', 'Murat Adal,10,90,100\\n', 'Osman Aybar,50,20,100\\n', 'Sude Balcı,60,10,40\\n', 'Zeynep Koyuncu,50,90,50\\n', 'İbrahim Pekkan,20,10,60\\n', 'Fatih Erdoğan,30,60,30\\n', 'Abdullah Ekşioğlu,40,60,10\\n', 'Osman Adan,30,90,50\\n', 'Ramazan Paksüt,90,20,20\\n', 'Halil Gökgöz,80,10,20\\n', 'Emre Kurutluoğlu,70,80,100\\n', 'Mahmut Akışık,40,80,20\\n', 'Yusuf Hamzaoğlu,100,40,90\\n', 'Ali Akan,90,90,80\\n', 'Zeliha Beşerler,100,80,20\\n', 'Ali Oraloğlu,20,20,90\\n', 'Hanife Poçan,100,50,10\\n', 'Ayşe Kurutluoğlu,50,10,80\\n', 'Fatih Akman,100,10,60\\n', 'Mehmet Babacan,70,60,60']\n"
          ]
        }
      ]
    },
    {
      "cell_type": "code",
      "source": [
        "with open(\"dosya.txt\",\"r\",encoding = \"utf-8\") as notlar :\n",
        "  file1 = notlar.readlines()\n",
        "\n",
        "gecen = []\n",
        "kalan = []\n",
        "\n",
        "for i in file1 :\n",
        "  a = (i.strip(\"\\n\")).split(\",\")\n",
        "  ort = str(int(int(a[1])*0.3 + int(a[2])*0.3 + int(a[3])*0.4))\n",
        "  a.append(ort)\n",
        "  if a[4] >= \"50\" :\n",
        "    b = \",\".join(a)\n",
        "    b += \"\\n\"\n",
        "    gecen.append(b)\n",
        "  else :\n",
        "    c = \",\".join(a)\n",
        "    c += \"\\n\"\n",
        "    kalan.append(c)\n",
        "\n",
        "with open(\"kalan.txt\",\"w\",encoding = \"utf-8\") as file1 :\n",
        "  file1.writelines(kalan)\n",
        "\n",
        "with open(\"gecen.txt\",\"w\",encoding = \"utf-8\") as file2 :\n",
        "  file2.writelines(gecen)"
      ],
      "metadata": {
        "id": "MqvdLVYGA7vy"
      },
      "execution_count": 22,
      "outputs": []
    },
    {
      "cell_type": "code",
      "source": [
        ""
      ],
      "metadata": {
        "id": "pwjmvT8kA7s6"
      },
      "execution_count": 22,
      "outputs": []
    },
    {
      "cell_type": "code",
      "execution_count": 1,
      "metadata": {
        "id": "4setWqKaA4Ry"
      },
      "outputs": [],
      "source": [
        "\n"
      ]
    }
  ]
}
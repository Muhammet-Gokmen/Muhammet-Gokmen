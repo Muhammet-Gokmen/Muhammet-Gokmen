{
  "nbformat": 4,
  "nbformat_minor": 0,
  "metadata": {
    "colab": {
      "name": "question_answer.ipynb",
      "provenance": [],
      "authorship_tag": "ABX9TyOBA5Tekexq5cdOogrV5yT4",
      "include_colab_link": true
    },
    "kernelspec": {
      "name": "python3",
      "display_name": "Python 3"
    },
    "language_info": {
      "name": "python"
    }
  },
  "cells": [
    {
      "cell_type": "markdown",
      "metadata": {
        "id": "view-in-github",
        "colab_type": "text"
      },
      "source": [
        "<a href=\"https://colab.research.google.com/github/Muhammet-Gokmen/Muhammet-Gokmen/blob/main/question_answer.ipynb\" target=\"_parent\"><img src=\"https://colab.research.google.com/assets/colab-badge.svg\" alt=\"Open In Colab\"/></a>"
      ]
    },
    {
      "cell_type": "code",
      "execution_count": null,
      "metadata": {
        "colab": {
          "base_uri": "https://localhost:8080/",
          "height": 35
        },
        "id": "TlwKt5ZpAMR0",
        "outputId": "d0675314-2240-434f-ebbd-93792cdc612d"
      },
      "outputs": [
        {
          "output_type": "execute_result",
          "data": {
            "text/plain": [
              "'C'"
            ],
            "application/vnd.google.colaboratory.intrinsic+json": {
              "type": "string"
            }
          },
          "metadata": {},
          "execution_count": 2
        }
      ],
      "source": [
        "ord(\"A\")\n",
        "chr(67)"
      ]
    },
    {
      "cell_type": "code",
      "source": [
        "sentence = \"ali ata bak\"\n",
        "result = \"\"\n",
        "for i in sentence:\n",
        "  if i.isalpha():\n",
        "   result += str(ord(i.upper()) - 64) + \" \"\n",
        "print(result)   \n"
      ],
      "metadata": {
        "colab": {
          "base_uri": "https://localhost:8080/"
        },
        "id": "cQyixCCxBVvh",
        "outputId": "236eaeb4-4b1e-4b5e-cabe-b278cd08da26"
      },
      "execution_count": 2,
      "outputs": [
        {
          "output_type": "stream",
          "name": "stdout",
          "text": [
            "1 12 9 1 20 1 2 1 11 \n"
          ]
        }
      ]
    },
    {
      "cell_type": "code",
      "source": [
        "sentence = \"ali ata bak\"\n",
        "def func(sentence):\n",
        "  for i in sentence:\n",
        "   result = \" \"\n",
        "   if i.isalpha():\n",
        "    result += str(ord(i.upper()) - 64) + \" \"\n",
        "  return result.strip()  \n",
        "func(sentence)  \n"
      ],
      "metadata": {
        "colab": {
          "base_uri": "https://localhost:8080/",
          "height": 35
        },
        "id": "lYPO74I9BVy7",
        "outputId": "a625bded-7e30-4a72-fc87-30d6d8c022c0"
      },
      "execution_count": 7,
      "outputs": [
        {
          "output_type": "execute_result",
          "data": {
            "text/plain": [
              "'11'"
            ],
            "application/vnd.google.colaboratory.intrinsic+json": {
              "type": "string"
            }
          },
          "metadata": {},
          "execution_count": 7
        }
      ]
    },
    {
      "cell_type": "code",
      "source": [
        "# colection dan Counter import yaparsak bize dict cevirir.\n",
        "\n",
        "from collections import Counter\n",
        "def is_valid_walk(walk):\n",
        "    a = Counter(walk)\n",
        "    vertical = a['n'] - a['s']\n",
        "    horizontal = a['e'] - a['w']\n",
        "    if len(walk) > 10:\n",
        "        return False\n",
        "    else:\n",
        "        if vertical == 0 and horizontal == 0:\n",
        "            return True\n",
        "        else:\n",
        "            return False\n",
        "\n",
        "print(is_valid_walk('nneesswwsn'))"
      ],
      "metadata": {
        "colab": {
          "base_uri": "https://localhost:8080/"
        },
        "id": "42dUOV2qBV17",
        "outputId": "67465a25-0ce5-404f-e78c-64685bfab61a"
      },
      "execution_count": null,
      "outputs": [
        {
          "output_type": "stream",
          "name": "stdout",
          "text": [
            "True\n"
          ]
        }
      ]
    },
    {
      "cell_type": "code",
      "source": [
        ""
      ],
      "metadata": {
        "id": "TQ0DDQMvBV4v"
      },
      "execution_count": null,
      "outputs": []
    },
    {
      "cell_type": "code",
      "source": [
        ""
      ],
      "metadata": {
        "id": "mmjxvlUrBV75"
      },
      "execution_count": null,
      "outputs": []
    },
    {
      "cell_type": "code",
      "source": [
        ""
      ],
      "metadata": {
        "id": "AemS9LHrBV-6"
      },
      "execution_count": null,
      "outputs": []
    },
    {
      "cell_type": "code",
      "source": [
        ""
      ],
      "metadata": {
        "id": "W5xusGO1BWBy"
      },
      "execution_count": null,
      "outputs": []
    }
  ]
}
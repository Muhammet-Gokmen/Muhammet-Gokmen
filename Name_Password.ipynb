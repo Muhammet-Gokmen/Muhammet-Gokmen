{
  "nbformat": 4,
  "nbformat_minor": 0,
  "metadata": {
    "colab": {
      "name": "Name_Password.ipynb",
      "provenance": [],
      "authorship_tag": "ABX9TyMIxpRb6oAl13BN07k9D+Yk",
      "include_colab_link": true
    },
    "kernelspec": {
      "name": "python3",
      "display_name": "Python 3"
    },
    "language_info": {
      "name": "python"
    }
  },
  "cells": [
    {
      "cell_type": "markdown",
      "metadata": {
        "id": "view-in-github",
        "colab_type": "text"
      },
      "source": [
        "<a href=\"https://colab.research.google.com/github/Muhammet-Gokmen/Muhammet-Gokmen/blob/main/Name_Password.ipynb\" target=\"_parent\"><img src=\"https://colab.research.google.com/assets/colab-badge.svg\" alt=\"Open In Colab\"/></a>"
      ]
    },
    {
      "cell_type": "code",
      "source": [
        "name = 'kalamar'\n",
        "password = 'W@12'\n",
        "ask_name = input('write your name to enter')\n",
        "if ask_name == name:\n",
        "  print(\"Hello\", ask_name,  \"The password is :\", password)\n",
        "else:\n",
        "  print(\"Hello\", ask_name, \"See you later.\") "
      ],
      "metadata": {
        "colab": {
          "base_uri": "https://localhost:8080/"
        },
        "id": "J-BUzb3F4fAE",
        "outputId": "698dfdad-d588-4c33-e8e6-d8cbb1bd3558"
      },
      "execution_count": 4,
      "outputs": [
        {
          "output_type": "stream",
          "name": "stdout",
          "text": [
            "write your name to enterkalamar\n",
            "Hello kalamar The password is : W@12\n"
          ]
        }
      ]
    }
  ]
}
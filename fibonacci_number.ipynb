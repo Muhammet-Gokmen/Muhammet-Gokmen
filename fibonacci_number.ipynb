{
  "nbformat": 4,
  "nbformat_minor": 0,
  "metadata": {
    "colab": {
      "name": "fibonacci_number.ipynb",
      "provenance": [],
      "authorship_tag": "ABX9TyPqIah9xSirPYFzCvvHu34p",
      "include_colab_link": true
    },
    "kernelspec": {
      "name": "python3",
      "display_name": "Python 3"
    },
    "language_info": {
      "name": "python"
    }
  },
  "cells": [
    {
      "cell_type": "markdown",
      "metadata": {
        "id": "view-in-github",
        "colab_type": "text"
      },
      "source": [
        "<a href=\"https://colab.research.google.com/github/Muhammet-Gokmen/Muhammet-Gokmen/blob/main/fibonacci_number.ipynb\" target=\"_parent\"><img src=\"https://colab.research.google.com/assets/colab-badge.svg\" alt=\"Open In Colab\"/></a>"
      ]
    },
    {
      "cell_type": "code",
      "execution_count": 1,
      "metadata": {
        "id": "4setWqKaA4Ry"
      },
      "outputs": [],
      "source": [
        "#number of fonacci\n"
      ]
    },
    {
      "cell_type": "code",
      "source": [
        "#fibonacci\n",
        "fibo =[1,1]\n",
        "for i in range(5):\n",
        "  fibo.append(fibo[i] +fibo[i+1])\n",
        "print(fibo)  "
      ],
      "metadata": {
        "colab": {
          "base_uri": "https://localhost:8080/"
        },
        "id": "2q2HN5-fA7jz",
        "outputId": "21324777-3756-4a63-bba1-db4ed3a2f78e"
      },
      "execution_count": 3,
      "outputs": [
        {
          "output_type": "stream",
          "name": "stdout",
          "text": [
            "[1, 1, 2, 3, 5, 8, 13]\n"
          ]
        }
      ]
    },
    {
      "cell_type": "code",
      "source": [
        "#number of sequence of Fibonacci\n",
        "n = int(input(\"enter number of sequence of Finacci\"))\n",
        "fibo = [1,1]\n",
        "for i in range(0,n):\n",
        "  fibo.append(fibo[i] +fibo[i+1])\n",
        "print(fibo)  "
      ],
      "metadata": {
        "colab": {
          "base_uri": "https://localhost:8080/"
        },
        "id": "Xc-ceY7KA7mq",
        "outputId": "0eb01333-90c8-4d5a-955e-6c0aa51826fd"
      },
      "execution_count": 4,
      "outputs": [
        {
          "output_type": "stream",
          "name": "stdout",
          "text": [
            "enter number of sequence of Finacci5\n",
            "[1, 1, 2, 3, 5, 8, 13]\n"
          ]
        }
      ]
    },
    {
      "cell_type": "code",
      "source": [
        ""
      ],
      "metadata": {
        "id": "pNokFjJ1A7p8"
      },
      "execution_count": null,
      "outputs": []
    },
    {
      "cell_type": "code",
      "source": [
        ""
      ],
      "metadata": {
        "id": "pwjmvT8kA7s6"
      },
      "execution_count": null,
      "outputs": []
    },
    {
      "cell_type": "code",
      "source": [
        ""
      ],
      "metadata": {
        "id": "MqvdLVYGA7vy"
      },
      "execution_count": null,
      "outputs": []
    }
  ]
}